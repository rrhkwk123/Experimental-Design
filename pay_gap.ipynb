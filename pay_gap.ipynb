{
  "nbformat": 4,
  "nbformat_minor": 0,
  "metadata": {
    "colab": {
      "name": "pay_gap.ipynb",
      "provenance": [],
      "include_colab_link": true
    },
    "kernelspec": {
      "name": "python3",
      "display_name": "Python 3"
    }
  },
  "cells": [
    {
      "cell_type": "markdown",
      "metadata": {
        "id": "view-in-github",
        "colab_type": "text"
      },
      "source": [
        "<a href=\"https://colab.research.google.com/github/rrhkwk123/Work/blob/main/pay_gap.ipynb\" target=\"_parent\"><img src=\"https://colab.research.google.com/assets/colab-badge.svg\" alt=\"Open In Colab\"/></a>"
      ]
    },
    {
      "cell_type": "code",
      "metadata": {
        "id": "La6DpWntrGZr"
      },
      "source": [
        "import pandas as pd\n",
        "import seaborn as sns\n",
        "## Import the Data\n",
        "hrdata = pd.read_csv('https://raw.githubusercontent.com/byui-cse/cse450-course/master/data/hr.csv', usecols=['PayRate','Sex'])"
      ],
      "execution_count": null,
      "outputs": []
    },
    {
      "cell_type": "code",
      "metadata": {
        "id": "un6fmcJ3rN79",
        "colab": {
          "base_uri": "https://localhost:8080/"
        },
        "outputId": "c710419a-ba0a-41d3-994f-2250ce793f34"
      },
      "source": [
        "# Multiply Hourly Rate by Work Hours in 1 year\n",
        "for index in hrdata.index:\n",
        "  if hrdata.loc[index, 'PayRate'] < 100: #Probably a cap in hourly rate\n",
        "    hrdata.loc[index, 'PayRate'] *= 2080\n",
        "\n",
        "hrdata.value_counts()\n"
      ],
      "execution_count": null,
      "outputs": [
        {
          "output_type": "execute_result",
          "data": {
            "text/plain": [
              "PayRate   Sex\n",
              "45760.0   F      14\n",
              "114400.0  F      13\n",
              "49920.0   F      12\n",
              "41600.0   F      12\n",
              "114400.0  M      12\n",
              "                 ..\n",
              "95680.0   M       1\n",
              "97760.0   F       1\n",
              "99008.0   F       1\n",
              "99840.0   M       1\n",
              "70720.0   F       1\n",
              "Length: 119, dtype: int64"
            ]
          },
          "metadata": {
            "tags": []
          },
          "execution_count": 21
        }
      ]
    },
    {
      "cell_type": "code",
      "metadata": {
        "id": "O2BZOGYt2sow",
        "colab": {
          "base_uri": "https://localhost:8080/",
          "height": 383
        },
        "outputId": "9a15630e-ee4f-4471-cbad-a8ad8c31e98c"
      },
      "source": [
        "#Show Results\n",
        "pay_graph = sns.catplot(y='PayRate', x='Sex', kind = 'box', data=hrdata)"
      ],
      "execution_count": null,
      "outputs": [
        {
          "output_type": "display_data",
          "data": {
            "image/png": "[encoded data removed]",
            "text/plain": [
              "<Figure size 360x360 with 1 Axes>"
            ]
          },
          "metadata": {
            "tags": [],
            "needs_background": "light"
          }
        }
      ]
    }
  ]
}