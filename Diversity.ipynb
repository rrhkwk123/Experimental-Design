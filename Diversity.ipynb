{
  "nbformat": 4,
  "nbformat_minor": 0,
  "metadata": {
    "colab": {
      "name": "Diversity.ipynb",
      "provenance": [],
      "collapsed_sections": [],
      "include_colab_link": true
    },
    "kernelspec": {
      "name": "python3",
      "display_name": "Python 3"
    }
  },
  "cells": [
    {
      "cell_type": "markdown",
      "metadata": {
        "id": "view-in-github",
        "colab_type": "text"
      },
      "source": [
        "<a href=\"https://colab.research.google.com/github/rrhkwk123/Work/blob/main/Diversity.ipynb\" target=\"_parent\"><img src=\"https://colab.research.google.com/assets/colab-badge.svg\" alt=\"Open In Colab\"/></a>"
      ]
    },
    {
      "cell_type": "code",
      "metadata": {
        "id": "JXoHrjspXA2K",
        "colab": {
          "base_uri": "https://localhost:8080/",
          "height": 343
        },
        "outputId": "c47a669e-a03d-4706-fc51-15b0f8fd897b"
      },
      "source": [
        "import pandas as pd\n",
        "import seaborn as sns\n",
        "## Import the Data\n",
        "hrdata = pd.read_csv('https://raw.githubusercontent.com/byui-cse/cse450-course/master/data/hr.csv')\n",
        "## Show a few things\n",
        "hrdata.head()"
      ],
      "execution_count": null,
      "outputs": [
        {
          "output_type": "execute_result",
          "data": {
            "text/html": [
              "<div>\n",
              "<style scoped>\n",
              "    .dataframe tbody tr th:only-of-type {\n",
              "        vertical-align: middle;\n",
              "    }\n",
              "\n",
              "    .dataframe tbody tr th {\n",
              "        vertical-align: top;\n",
              "    }\n",
              "\n",
              "    .dataframe thead th {\n",
              "        text-align: right;\n",
              "    }\n",
              "</style>\n",
              "<table border=\"1\" class=\"dataframe\">\n",
              "  <thead>\n",
              "    <tr style=\"text-align: right;\">\n",
              "      <th></th>\n",
              "      <th>Employee_Name</th>\n",
              "      <th>EmpID</th>\n",
              "      <th>PayRate</th>\n",
              "      <th>Position</th>\n",
              "      <th>State</th>\n",
              "      <th>Zip</th>\n",
              "      <th>DOB</th>\n",
              "      <th>Sex</th>\n",
              "      <th>MaritalDesc</th>\n",
              "      <th>Dependents</th>\n",
              "      <th>CitizenDesc</th>\n",
              "      <th>HispanicLatino</th>\n",
              "      <th>RaceDesc</th>\n",
              "      <th>DateofHire</th>\n",
              "      <th>DateofTermination</th>\n",
              "      <th>TermReason</th>\n",
              "      <th>EmploymentStatus</th>\n",
              "      <th>Department</th>\n",
              "      <th>ManagerName</th>\n",
              "      <th>RecruitmentSource</th>\n",
              "      <th>PerformanceScore</th>\n",
              "      <th>EngagementSurvey</th>\n",
              "      <th>EmpSatisfaction</th>\n",
              "      <th>EmpSatisfaction2</th>\n",
              "      <th>SpecialProjectsCount</th>\n",
              "      <th>LastPerformanceReview_Date</th>\n",
              "      <th>DaysLateLast30</th>\n",
              "      <th>AbsencesLast30</th>\n",
              "    </tr>\n",
              "  </thead>\n",
              "  <tbody>\n",
              "    <tr>\n",
              "      <th>0</th>\n",
              "      <td>Brown, Mia</td>\n",
              "      <td>1103024456</td>\n",
              "      <td>59280.0</td>\n",
              "      <td>Accountant I</td>\n",
              "      <td>MA</td>\n",
              "      <td>1450</td>\n",
              "      <td>11/24/87</td>\n",
              "      <td>F</td>\n",
              "      <td>Married</td>\n",
              "      <td>0</td>\n",
              "      <td>US Citizen</td>\n",
              "      <td>No</td>\n",
              "      <td>Black or African American</td>\n",
              "      <td>10/27/08</td>\n",
              "      <td>NaN</td>\n",
              "      <td>N/A - still employed</td>\n",
              "      <td>Active</td>\n",
              "      <td>Admin Offices</td>\n",
              "      <td>Brandon R. LeBlanc</td>\n",
              "      <td>Diversity Job Fair</td>\n",
              "      <td>Fully Meets</td>\n",
              "      <td>4.08</td>\n",
              "      <td>2</td>\n",
              "      <td>93</td>\n",
              "      <td>9</td>\n",
              "      <td>1/15/19</td>\n",
              "      <td>0.0</td>\n",
              "      <td>1</td>\n",
              "    </tr>\n",
              "    <tr>\n",
              "      <th>1</th>\n",
              "      <td>LaRotonda, William</td>\n",
              "      <td>1106026572</td>\n",
              "      <td>47840.0</td>\n",
              "      <td>Accountant I</td>\n",
              "      <td>MA</td>\n",
              "      <td>1460</td>\n",
              "      <td>4/26/84</td>\n",
              "      <td>M</td>\n",
              "      <td>Divorced</td>\n",
              "      <td>4</td>\n",
              "      <td>US Citizen</td>\n",
              "      <td>No</td>\n",
              "      <td>Black or African American</td>\n",
              "      <td>1/6/14</td>\n",
              "      <td>NaN</td>\n",
              "      <td>N/A - still employed</td>\n",
              "      <td>Active</td>\n",
              "      <td>Admin Offices</td>\n",
              "      <td>Brandon R. LeBlanc</td>\n",
              "      <td>Website Banner Ads</td>\n",
              "      <td>Fully Meets</td>\n",
              "      <td>10.00</td>\n",
              "      <td>4</td>\n",
              "      <td>75</td>\n",
              "      <td>7</td>\n",
              "      <td>1/17/19</td>\n",
              "      <td>0.0</td>\n",
              "      <td>2</td>\n",
              "    </tr>\n",
              "    <tr>\n",
              "      <th>2</th>\n",
              "      <td>Steans, Tyrone</td>\n",
              "      <td>1302053333</td>\n",
              "      <td>60320.0</td>\n",
              "      <td>Accountant I</td>\n",
              "      <td>MA</td>\n",
              "      <td>2703</td>\n",
              "      <td>9/1/86</td>\n",
              "      <td>M</td>\n",
              "      <td>Single</td>\n",
              "      <td>2</td>\n",
              "      <td>US Citizen</td>\n",
              "      <td>No</td>\n",
              "      <td>White</td>\n",
              "      <td>9/29/14</td>\n",
              "      <td>NaN</td>\n",
              "      <td>N/A - still employed</td>\n",
              "      <td>Active</td>\n",
              "      <td>Admin Offices</td>\n",
              "      <td>Brandon R. LeBlanc</td>\n",
              "      <td>Internet Search</td>\n",
              "      <td>Fully Meets</td>\n",
              "      <td>7.80</td>\n",
              "      <td>5</td>\n",
              "      <td>60</td>\n",
              "      <td>6</td>\n",
              "      <td>1/18/19</td>\n",
              "      <td>0.0</td>\n",
              "      <td>7</td>\n",
              "    </tr>\n",
              "    <tr>\n",
              "      <th>3</th>\n",
              "      <td>Howard, Estelle</td>\n",
              "      <td>1211050782</td>\n",
              "      <td>44720.0</td>\n",
              "      <td>Administrative Assistant</td>\n",
              "      <td>MA</td>\n",
              "      <td>2170</td>\n",
              "      <td>9/16/85</td>\n",
              "      <td>F</td>\n",
              "      <td>Married</td>\n",
              "      <td>3</td>\n",
              "      <td>US Citizen</td>\n",
              "      <td>No</td>\n",
              "      <td>White</td>\n",
              "      <td>2/16/15</td>\n",
              "      <td>4/15/15</td>\n",
              "      <td>NaN</td>\n",
              "      <td>Terminated for Cause</td>\n",
              "      <td>Admin Offices</td>\n",
              "      <td>Brandon R. LeBlanc</td>\n",
              "      <td>Pay Per Click - Google</td>\n",
              "      <td>Fully Meets</td>\n",
              "      <td>6.48</td>\n",
              "      <td>3</td>\n",
              "      <td>83</td>\n",
              "      <td>0</td>\n",
              "      <td>NaN</td>\n",
              "      <td>NaN</td>\n",
              "      <td>2</td>\n",
              "    </tr>\n",
              "    <tr>\n",
              "      <th>4</th>\n",
              "      <td>Singh, Nan</td>\n",
              "      <td>1307059817</td>\n",
              "      <td>34444.8</td>\n",
              "      <td>Administrative Assistant</td>\n",
              "      <td>MA</td>\n",
              "      <td>2330</td>\n",
              "      <td>5/19/88</td>\n",
              "      <td>F</td>\n",
              "      <td>Single</td>\n",
              "      <td>4</td>\n",
              "      <td>US Citizen</td>\n",
              "      <td>No</td>\n",
              "      <td>White</td>\n",
              "      <td>5/1/15</td>\n",
              "      <td>NaN</td>\n",
              "      <td>N/A - still employed</td>\n",
              "      <td>Active</td>\n",
              "      <td>Admin Offices</td>\n",
              "      <td>Brandon R. LeBlanc</td>\n",
              "      <td>Website Banner Ads</td>\n",
              "      <td>Fully Meets</td>\n",
              "      <td>10.00</td>\n",
              "      <td>3</td>\n",
              "      <td>36</td>\n",
              "      <td>3</td>\n",
              "      <td>1/15/19</td>\n",
              "      <td>0.0</td>\n",
              "      <td>2</td>\n",
              "    </tr>\n",
              "  </tbody>\n",
              "</table>\n",
              "</div>"
            ],
            "text/plain": [
              "          Employee_Name       EmpID  ...  DaysLateLast30 AbsencesLast30\n",
              "0            Brown, Mia  1103024456  ...             0.0              1\n",
              "1  LaRotonda, William    1106026572  ...             0.0              2\n",
              "2      Steans, Tyrone    1302053333  ...             0.0              7\n",
              "3       Howard, Estelle  1211050782  ...             NaN              2\n",
              "4           Singh, Nan   1307059817  ...             0.0              2\n",
              "\n",
              "[5 rows x 28 columns]"
            ]
          },
          "metadata": {
            "tags": []
          },
          "execution_count": 2
        }
      ]
    },
    {
      "cell_type": "code",
      "metadata": {
        "id": "HZ_qmxtFZuqC",
        "colab": {
          "base_uri": "https://localhost:8080/"
        },
        "outputId": "13e379e4-4ae0-4461-9cac-bead18f0ab28"
      },
      "source": [
        "# Count up them races\n",
        "hrdata['RaceDesc'].value_counts()"
      ],
      "execution_count": null,
      "outputs": [
        {
          "output_type": "execute_result",
          "data": {
            "text/plain": [
              "White                               193\n",
              "Black or African American            57\n",
              "Asian                                34\n",
              "Two or more races                    18\n",
              "American Indian or Alaska Native      4\n",
              "Hispanic                              4\n",
              "Name: RaceDesc, dtype: int64"
            ]
          },
          "metadata": {
            "tags": []
          },
          "execution_count": 3
        }
      ]
    },
    {
      "cell_type": "code",
      "metadata": {
        "id": "_72mXnJQdpLO",
        "colab": {
          "base_uri": "https://localhost:8080/"
        },
        "outputId": "bae41b20-558d-45db-d4cd-d0211689fb96"
      },
      "source": [
        "# Count the Genders\n",
        "hrdata['Sex'].value_counts()"
      ],
      "execution_count": null,
      "outputs": [
        {
          "output_type": "execute_result",
          "data": {
            "text/plain": [
              "F     177\n",
              "M     133\n",
              "Name: Sex, dtype: int64"
            ]
          },
          "metadata": {
            "tags": []
          },
          "execution_count": 4
        }
      ]
    },
    {
      "cell_type": "code",
      "metadata": {
        "id": "6THmc71Qd7ev",
        "colab": {
          "base_uri": "https://localhost:8080/"
        },
        "outputId": "8b822586-eebc-4d66-a1ae-d4184de7a8de"
      },
      "source": [
        "# Count Hispanic\n",
        "hrdata['HispanicLatino'].value_counts()"
      ],
      "execution_count": null,
      "outputs": [
        {
          "output_type": "execute_result",
          "data": {
            "text/plain": [
              "No     281\n",
              "Yes     27\n",
              "yes      1\n",
              "no       1\n",
              "Name: HispanicLatino, dtype: int64"
            ]
          },
          "metadata": {
            "tags": []
          },
          "execution_count": 5
        }
      ]
    },
    {
      "cell_type": "code",
      "metadata": {
        "id": "UTnLjJLbfslH",
        "colab": {
          "base_uri": "https://localhost:8080/",
          "height": 296
        },
        "outputId": "261dbfa3-1837-4a58-dce4-e82bb0177681"
      },
      "source": [
        "sns.countplot(y=\"RaceDesc\", data = hrdata)"
      ],
      "execution_count": null,
      "outputs": [
        {
          "output_type": "execute_result",
          "data": {
            "text/plain": [
              "<matplotlib.axes._subplots.AxesSubplot at 0x7fc4a805bfd0>"
            ]
          },
          "metadata": {
            "tags": []
          },
          "execution_count": 12
        },
        {
          "output_type": "display_data",
          "data": {
            "image/png": "[encoded data removed]",
            "text/plain": [
              "<Figure size 432x288 with 1 Axes>"
            ]
          },
          "metadata": {
            "tags": [],
            "needs_background": "light"
          }
        }
      ]
    },
    {
      "cell_type": "code",
      "metadata": {
        "id": "1l67xra-gpwE",
        "colab": {
          "base_uri": "https://localhost:8080/"
        },
        "outputId": "40e5a6fe-28ed-4fbb-aa12-2b4ce721c886"
      },
      "source": [
        "# Count up them race percentages\n",
        "hrdata['RaceDesc'].value_counts(normalize=True) * 100"
      ],
      "execution_count": null,
      "outputs": [
        {
          "output_type": "execute_result",
          "data": {
            "text/plain": [
              "White                               62.258065\n",
              "Black or African American           18.387097\n",
              "Asian                               10.967742\n",
              "Two or more races                    5.806452\n",
              "Hispanic                             1.290323\n",
              "American Indian or Alaska Native     1.290323\n",
              "Name: RaceDesc, dtype: float64"
            ]
          },
          "metadata": {
            "tags": []
          },
          "execution_count": 18
        }
      ]
    },
    {
      "cell_type": "code",
      "metadata": {
        "id": "UWixVJkTrH_c",
        "colab": {
          "base_uri": "https://localhost:8080/"
        },
        "outputId": "85e53f9c-a7d7-4757-e8b2-688b48c899dc"
      },
      "source": [
        "hrdata['HispanicLatino'].value_counts(normalize=True) * 100"
      ],
      "execution_count": null,
      "outputs": [
        {
          "output_type": "execute_result",
          "data": {
            "text/plain": [
              "No     90.645161\n",
              "Yes     8.709677\n",
              "yes     0.322581\n",
              "no      0.322581\n",
              "Name: HispanicLatino, dtype: float64"
            ]
          },
          "metadata": {
            "tags": []
          },
          "execution_count": 31
        }
      ]
    },
    {
      "cell_type": "code",
      "metadata": {
        "id": "xGZmpsncrVQF",
        "colab": {
          "base_uri": "https://localhost:8080/",
          "height": 843
        },
        "outputId": "a22525ba-d652-4739-a990-fcbcd6b9a0a7"
      },
      "source": [
        "# Recruiting Sources\n",
        "recr_demo = sns.countplot(x='RecruitmentSource', hue='RaceDesc', data=hrdata)\n",
        "recr_demo.set(xlim=(0,10))\n",
        "recr_demo.set_xticklabels(recr_demo.get_xticklabels(), rotation=70)\n"
      ],
      "execution_count": null,
      "outputs": [
        {
          "output_type": "execute_result",
          "data": {
            "text/plain": [
              "[Text(0, 0, 'Diversity Job Fair'),\n",
              " Text(0, 0, 'Website Banner Ads'),\n",
              " Text(0, 0, 'Internet Search'),\n",
              " Text(0, 0, 'Pay Per Click - Google'),\n",
              " Text(0, 0, 'Social Networks - Facebook Twitter etc'),\n",
              " Text(0, 0, 'Billboard'),\n",
              " Text(0, 0, 'Monster.com'),\n",
              " Text(0, 0, 'Newspager/Magazine'),\n",
              " Text(0, 0, 'Professional Society'),\n",
              " Text(0, 0, 'Other'),\n",
              " Text(0, 0, 'Employee Referral'),\n",
              " Text(0, 0, 'Indeed'),\n",
              " Text(0, 0, 'Search Engine - Google Bing Yahoo'),\n",
              " Text(0, 0, 'Glassdoor'),\n",
              " Text(0, 0, 'Vendor Referral'),\n",
              " Text(0, 0, 'MBTA ads'),\n",
              " Text(0, 0, 'Information Session'),\n",
              " Text(0, 0, 'Word of Mouth'),\n",
              " Text(0, 0, 'Pay Per Click'),\n",
              " Text(0, 0, 'On-campus Recruiting'),\n",
              " Text(0, 0, 'On-line Web application'),\n",
              " Text(0, 0, 'Careerbuilder'),\n",
              " Text(0, 0, 'Company Intranet - Partner')]"
            ]
          },
          "metadata": {
            "tags": []
          },
          "execution_count": 37
        },
        {
          "output_type": "display_data",
          "data": {
            "image/png": "[encoded data removed]",
            "text/plain": [
              "<Figure size 432x288 with 1 Axes>"
            ]
          },
          "metadata": {
            "tags": [],
            "needs_background": "light"
          }
        }
      ]
    }
  ]
}