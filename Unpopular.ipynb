{
  "nbformat": 4,
  "nbformat_minor": 0,
  "metadata": {
    "colab": {
      "name": "Unpopular.ipynb",
      "provenance": [],
      "collapsed_sections": [],
      "machine_shape": "hm",
      "include_colab_link": true
    },
    "kernelspec": {
      "name": "python3",
      "display_name": "Python 3"
    }
  },
  "cells": [
    {
      "cell_type": "markdown",
      "metadata": {
        "id": "view-in-github",
        "colab_type": "text"
      },
      "source": [
        "<a href=\"https://colab.research.google.com/github/rrhkwk123/Work/blob/main/Unpopular.ipynb\" target=\"_parent\"><img src=\"https://colab.research.google.com/assets/colab-badge.svg\" alt=\"Open In Colab\"/></a>"
      ]
    },
    {
      "cell_type": "code",
      "metadata": {
        "id": "Bdv_z6vMcOCG"
      },
      "source": [
        "#import the stuff\n",
        "import pandas as pd\n",
        "import altair as alt\n",
        "import matplotlib as plt\n",
        "songs = pd.read_csv('https://raw.githubusercontent.com/byui-cse/cse450-course/master/data/spotify/data.csv')\n",
        "\n",
        "from sklearn.neighbors import NearestNeighbors, KNeighborsRegressor\n",
        "from sklearn.preprocessing import MinMaxScaler\n",
        "from sklearn.preprocessing import LabelEncoder\n",
        "from sklearn.preprocessing import OneHotEncoder\n",
        "from sklearn.model_selection import train_test_split\n",
        "import seaborn as sns\n",
        "import numpy as py\n",
        "\n"
      ],
      "execution_count": null,
      "outputs": []
    },
    {
      "cell_type": "code",
      "metadata": {
        "id": "9QadwnaxtQrj"
      },
      "source": [
        "#make the dataset small enough to work with\n",
        "songs = songs.drop(['id', 'name', 'release_date', 'explicit', 'liveness', 'loudness', 'valence', 'speechiness', 'loudness', 'artists'], axis=1)\n",
        "songs = songs[songs['popularity'] != 0]"
      ],
      "execution_count": null,
      "outputs": []
    },
    {
      "cell_type": "code",
      "metadata": {
        "id": "yPcZg3Zxwr0r"
      },
      "source": [
        "#scale features\n",
        "scaler = MinMaxScaler()\n",
        "scale_songs = scaler.fit_transform(songs)"
      ],
      "execution_count": null,
      "outputs": []
    },
    {
      "cell_type": "code",
      "metadata": {
        "id": "l88G1fL0f0E6"
      },
      "source": [
        "#make the data\n",
        "targ = songs['popularity'].values\n",
        "X = pd.get_dummies(songs.drop(columns=['popularity']), drop_first=True)\n",
        "X_train, X_test, Y_train, Y_test = train_test_split(X, targ, test_size=0.30, random_state=1)\n"
      ],
      "execution_count": null,
      "outputs": []
    },
    {
      "cell_type": "code",
      "metadata": {
        "id": "wjwaJooeo4bz",
        "colab": {
          "base_uri": "https://localhost:8080/"
        },
        "outputId": "8e47d16b-6d33-48b0-ecc5-2d0455006fc5"
      },
      "source": [
        "#train\n",
        "knn = KNeighborsRegressor(n_neighbors=6)\n",
        "knn.fit(X_train,Y_train)\n",
        "\n"
      ],
      "execution_count": null,
      "outputs": [
        {
          "output_type": "execute_result",
          "data": {
            "text/plain": [
              "KNeighborsRegressor(algorithm='auto', leaf_size=30, metric='minkowski',\n",
              "                    metric_params=None, n_jobs=None, n_neighbors=6, p=2,\n",
              "                    weights='uniform')"
            ]
          },
          "metadata": {
            "tags": []
          },
          "execution_count": 5
        }
      ]
    },
    {
      "cell_type": "code",
      "metadata": {
        "id": "Yp6a5jPzo4HB",
        "colab": {
          "base_uri": "https://localhost:8080/"
        },
        "outputId": "e1614f0e-65e3-42c8-a7ad-246cc13ab585"
      },
      "source": [
        "#test\n",
        "knn.predict(X_test)"
      ],
      "execution_count": null,
      "outputs": [
        {
          "output_type": "execute_result",
          "data": {
            "text/plain": [
              "array([33.83333333, 25.83333333, 34.5       , ..., 25.33333333,\n",
              "       50.16666667, 26.66666667])"
            ]
          },
          "metadata": {
            "tags": []
          },
          "execution_count": 6
        }
      ]
    },
    {
      "cell_type": "code",
      "metadata": {
        "id": "ET9Xd_v3mClf",
        "colab": {
          "base_uri": "https://localhost:8080/"
        },
        "outputId": "625cd17b-bbd0-45af-8c7e-a10879f6be05"
      },
      "source": [
        "#results\n",
        "knn.score(X_test, Y_test)"
      ],
      "execution_count": null,
      "outputs": [
        {
          "output_type": "execute_result",
          "data": {
            "text/plain": [
              "0.43339587144355035"
            ]
          },
          "metadata": {
            "tags": []
          },
          "execution_count": 7
        }
      ]
    },
    {
      "cell_type": "code",
      "metadata": {
        "id": "JKm6uuKF5tSf",
        "colab": {
          "base_uri": "https://localhost:8080/"
        },
        "outputId": "af62fabc-7cee-44a4-c1b4-97f57d07d467"
      },
      "source": [
        "#shortcut for best k value\n",
        "from sklearn.model_selection import GridSearchCV\n",
        "\n",
        "knn2 = KNeighborsRegressor()\n",
        "\n",
        "param_grid = {'n_neighbors': py.arange(1,15)}\n",
        "\n",
        "knn_gscv = GridSearchCV(knn2, param_grid, cv=20)\n",
        "\n",
        "knn_gscv.fit(X_train, Y_train)"
      ],
      "execution_count": null,
      "outputs": [
        {
          "output_type": "execute_result",
          "data": {
            "text/plain": [
              "GridSearchCV(cv=20, error_score=nan,\n",
              "             estimator=KNeighborsRegressor(algorithm='auto', leaf_size=30,\n",
              "                                           metric='minkowski',\n",
              "                                           metric_params=None, n_jobs=None,\n",
              "                                           n_neighbors=5, p=2,\n",
              "                                           weights='uniform'),\n",
              "             iid='deprecated', n_jobs=None,\n",
              "             param_grid={'n_neighbors': array([ 1,  2,  3,  4,  5,  6,  7,  8,  9, 10, 11, 12, 13, 14])},\n",
              "             pre_dispatch='2*n_jobs', refit=True, return_train_score=False,\n",
              "             scoring=None, verbose=0)"
            ]
          },
          "metadata": {
            "tags": []
          },
          "execution_count": 8
        }
      ]
    },
    {
      "cell_type": "code",
      "metadata": {
        "id": "L-oGX3xc7DtB",
        "colab": {
          "base_uri": "https://localhost:8080/"
        },
        "outputId": "0aa61838-697f-46bc-9d14-76d1b298e2b3"
      },
      "source": [
        "knn_gscv.best_params_"
      ],
      "execution_count": null,
      "outputs": [
        {
          "output_type": "execute_result",
          "data": {
            "text/plain": [
              "{'n_neighbors': 6}"
            ]
          },
          "metadata": {
            "tags": []
          },
          "execution_count": 9
        }
      ]
    },
    {
      "cell_type": "code",
      "metadata": {
        "id": "s_5n6uef7Zt8"
      },
      "source": [
        "#test set isolates categories to see prediction\n",
        "test_set = pd.DataFrame({'acousticness':[.5,0,0,0,0,0,0,0,0], 'danceability':[0,.5,0,0,0,0,0,0,0], 'duration_ms':[0,0,300000,0,0,0,0,0,0],\n",
        "                         'energy':[0,0,0,.5,0,0,0,0,0], 'instrumentalness':[0,0,0,0,.5,0,0,0,0], 'key':[0,0,0,0,0,5,0,0,0],\n",
        "                         'mode':[0,0,0,0,0,0,1,0,0], 'tempo':[0,0,0,0,0,0,0,100,0], 'year':[0,0,0,0,0,0,0,0,1980], })\n"
      ],
      "execution_count": null,
      "outputs": []
    },
    {
      "cell_type": "code",
      "metadata": {
        "id": "6HCFk9L5Eqaf"
      },
      "source": [
        "#results of test set\n",
        "results = knn.predict(test_set)"
      ],
      "execution_count": null,
      "outputs": []
    },
    {
      "cell_type": "code",
      "metadata": {
        "id": "PsAmloXg7lQX",
        "colab": {
          "base_uri": "https://localhost:8080/",
          "height": 476
        },
        "outputId": "21ee73c3-17ca-47a5-9bfb-200632183388"
      },
      "source": [
        "\n",
        "\n",
        "fig = sns.scatterplot(x=['acousticness', 'danceability', 'duration_ms','energy','instrumentalness', 'key', 'mode', 'tempo', 'year' ], y=results)\n",
        "fig.set_xticklabels(['acousticness', 'danceability', 'duration_ms','energy','instrumentalness', 'key', 'mode', 'tempo', 'year' ], rotation=40, ha=\"right\")\n",
        "\n",
        "\n"
      ],
      "execution_count": null,
      "outputs": [
        {
          "output_type": "execute_result",
          "data": {
            "text/plain": [
              "[Text(0, 0, 'acousticness'),\n",
              " Text(0, 0, 'danceability'),\n",
              " Text(0, 0, 'duration_ms'),\n",
              " Text(0, 0, 'energy'),\n",
              " Text(0, 0, 'instrumentalness'),\n",
              " Text(0, 0, 'key'),\n",
              " Text(0, 0, 'mode'),\n",
              " Text(0, 0, 'tempo'),\n",
              " Text(0, 0, 'year')]"
            ]
          },
          "metadata": {
            "tags": []
          },
          "execution_count": 42
        },
        {
          "output_type": "display_data",
          "data": {
            "image/png": "[encoded data removed]",
            "text/plain": [
              "<Figure size 432x288 with 1 Axes>"
            ]
          },
          "metadata": {
            "tags": []
          }
        }
      ]
    },
    {
      "cell_type": "code",
      "metadata": {
        "id": "mTaMeM-e0GOz"
      },
      "source": [
        ""
      ],
      "execution_count": null,
      "outputs": []
    },
    {
      "cell_type": "markdown",
      "metadata": {
        "id": "tDxqB_nB0GHK"
      },
      "source": [
        ""
      ]
    }
  ]
}