{
  "nbformat": 4,
  "nbformat_minor": 0,
  "metadata": {
    "colab": {
      "name": "bank2.ipynb",
      "provenance": [],
      "collapsed_sections": [],
      "include_colab_link": true
    },
    "kernelspec": {
      "name": "python3",
      "display_name": "Python 3"
    }
  },
  "cells": [
    {
      "cell_type": "markdown",
      "metadata": {
        "id": "view-in-github",
        "colab_type": "text"
      },
      "source": [
        "<a href=\"https://colab.research.google.com/github/rrhkwk123/Work/blob/main/bank2.ipynb\" target=\"_parent\"><img src=\"https://colab.research.google.com/assets/colab-badge.svg\" alt=\"Open In Colab\"/></a>"
      ]
    },
    {
      "cell_type": "code",
      "metadata": {
        "id": "mA0HPVmIBT4C",
        "colab": {
          "base_uri": "https://localhost:8080/",
          "height": 204
        },
        "outputId": "abe00cfa-c49e-469c-dc6e-b2703ce479d1"
      },
      "source": [
        "import numpy as np\n",
        "import pandas as pd\n",
        "import matplotlib.pyplot as plt\n",
        "import seaborn as sns\n",
        "\n",
        "from sklearn.metrics import accuracy_score, confusion_matrix\n",
        "from sklearn import tree\n",
        "from sklearn.tree import DecisionTreeClassifier\n",
        "from sklearn.preprocessing import OneHotEncoder\n",
        "from sklearn.model_selection import train_test_split\n",
        "\n",
        "\n",
        "campaign = pd.read_csv('https://raw.githubusercontent.com/byui-cse/cse450-course/master/data/bank.csv')\n",
        "\n",
        "campaign['emp.var.rate'].value_counts()\n"
      ],
      "execution_count": null,
      "outputs": [
        {
          "output_type": "execute_result",
          "data": {
            "text/plain": [
              " 1.4    16234\n",
              "-1.8     9184\n",
              " 1.1     7763\n",
              "-0.1     3683\n",
              "-2.9     1663\n",
              "-3.4     1071\n",
              "-1.7      773\n",
              "-1.1      635\n",
              "-3.0      172\n",
              "-0.2       10\n",
              "Name: emp.var.rate, dtype: int64"
            ]
          },
          "metadata": {
            "tags": []
          },
          "execution_count": 46
        }
      ]
    },
    {
      "cell_type": "code",
      "metadata": {
        "id": "StiU5QcPPxqQ",
        "colab": {
          "base_uri": "https://localhost:8080/",
          "height": 102
        },
        "outputId": "5325e7aa-4e70-4417-a377-03c03e3150a9"
      },
      "source": [
        "# creating a socioeconomic score for customers\n",
        "for index in campaign.index:\n",
        "  campaign.loc[index, 'socio_ec'] = 0\n",
        "\n",
        "campaign.columns\n"
      ],
      "execution_count": null,
      "outputs": [
        {
          "output_type": "execute_result",
          "data": {
            "text/plain": [
              "Index(['age', 'job', 'marital', 'education', 'default', 'housing', 'loan',\n",
              "       'contact', 'month', 'day_of_week', 'campaign', 'pdays', 'previous',\n",
              "       'poutcome', 'emp.var.rate', 'cons.price.idx', 'cons.conf.idx',\n",
              "       'euribor3m', 'nr.employed', 'y', 'socio_ec'],\n",
              "      dtype='object')"
            ]
          },
          "metadata": {
            "tags": []
          },
          "execution_count": 47
        }
      ]
    },
    {
      "cell_type": "code",
      "metadata": {
        "id": "ALLMN63FPyEQ",
        "colab": {
          "base_uri": "https://localhost:8080/",
          "height": 476
        },
        "outputId": "969bb6f1-db44-447d-d813-4bdbf0f98af8"
      },
      "source": [
        "#job type is associated with salary\n",
        "for index in campaign.index:\n",
        "  if campaign.loc[index, 'job'] == 'admin.':\n",
        "    campaign.loc[index, 'socio_ec'] += 2\n",
        "  elif campaign.loc[index, 'job'] == 'blue-collar':\n",
        "    campaign.loc[index, 'socio_ec'] += 3\n",
        "  elif campaign.loc[index, 'job'] == 'technician':\n",
        "    campaign.loc[index, 'socio_ec'] += 4\n",
        "  elif campaign.loc[index, 'job'] == 'services':\n",
        "    campaign.loc[index, 'socio_ec'] += 1\n",
        "  elif campaign.loc[index, 'job'] == 'management':\n",
        "    campaign.loc[index, 'socio_ec'] += 6\n",
        "  elif campaign.loc[index, 'job'] == 'retired':\n",
        "    campaign.loc[index, 'socio_ec'] += 4\n",
        "  elif campaign.loc[index, 'job'] == 'entrepreneur':\n",
        "    campaign.loc[index, 'socio_ec'] += 4\n",
        "  elif campaign.loc[index, 'job'] == 'self-employed':\n",
        "    campaign.loc[index, 'socio_ec'] += 4\n",
        "  elif campaign.loc[index, 'job'] == 'housemaid':\n",
        "    campaign.loc[index, 'socio_ec'] += 1\n",
        "  elif campaign.loc[index, 'job'] == 'unemployed':\n",
        "    campaign.loc[index, 'socio_ec'] -= 2\n",
        "  elif campaign.loc[index, 'job'] == 'student':\n",
        "    campaign.loc[index, 'socio_ec'] += 0\n",
        "#age tends to be positively correlated with wealth\n",
        "for index in campaign.index:\n",
        "  if campaign.loc[index, 'age'] <= 30:\n",
        "    campaign.loc[index, 'socio_ec'] -= 1\n",
        "  elif 30 < campaign.loc[index, 'age'] <= 50:\n",
        "    campaign.loc[index, 'socio_ec'] += 2\n",
        "  elif campaign.loc[index, 'age'] > 50:\n",
        "    campaign.loc[index, 'socio_ec'] += 4\n",
        "#married people are typically better of than single people, but divorce is expensive\n",
        "for index in campaign.index:\n",
        "  if campaign.loc[index, 'marital'] == 'married':\n",
        "    campaign.loc[index, 'socio_ec'] += 3\n",
        "  elif campaign.loc[index, 'marital'] == 'single':\n",
        "    campaign.loc[index, 'socio_ec'] += 1\n",
        "  elif campaign.loc[index, 'marital'] == 'divorced':\n",
        "    campaign.loc[index, 'socio_ec'] -= 3\n",
        "#level of education is often associated with income\n",
        "for index in campaign.index:\n",
        "  if campaign.loc[index, 'education'] == 'university.degree':\n",
        "    campaign.loc[index, 'socio_ec'] += 8\n",
        "  elif campaign.loc[index, 'education'] == 'high.school':\n",
        "    campaign.loc[index, 'socio_ec'] += 4\n",
        "  elif campaign.loc[index, 'education'] == 'basic.9y':\n",
        "    campaign.loc[index, 'socio_ec'] += 3\n",
        "  elif campaign.loc[index, 'education'] == 'basic.6y':\n",
        "    campaign.loc[index, 'socio_ec'] += 2\n",
        "  elif campaign.loc[index, 'education'] == 'basic.4y':\n",
        "    campaign.loc[index, 'socio_ec'] += 1\n",
        "  elif campaign.loc[index, 'education'] == 'professional.course':\n",
        "    campaign.loc[index, 'socio_ec'] += 6\n",
        "  elif campaign.loc[index, 'education'] == 'illiterate':\n",
        "    campaign.loc[index, 'socio_ec'] -= 4\n",
        "#default is used as a rough indicator of credit score\n",
        "for index in campaign.index:\n",
        "  if campaign.loc[index, 'default'] == 'yes':\n",
        "    campaign.loc[index, 'socio_ec'] -= 10\n",
        "  elif campaign.loc[index, 'default'] == 'no':\n",
        "    campaign.loc[index, 'socio_ec'] += 2\n",
        "#being loan free is rough indicator of debt to income ratio\n",
        "for index in campaign.index:\n",
        "  if campaign.loc[index, 'loan'] == 'no':\n",
        "    campaign.loc[index, 'socio_ec'] += 2\n",
        "\n",
        "campaign['socio_ec'].value_counts()"
      ],
      "execution_count": null,
      "outputs": [
        {
          "output_type": "execute_result",
          "data": {
            "text/plain": [
              " 13.0    4508\n",
              " 19.0    4455\n",
              " 15.0    4296\n",
              " 17.0    4176\n",
              " 14.0    3701\n",
              " 12.0    2946\n",
              " 11.0    2869\n",
              " 16.0    2233\n",
              " 10.0    2150\n",
              " 21.0    2077\n",
              " 9.0     1809\n",
              " 8.0     1404\n",
              " 23.0    1143\n",
              " 7.0      860\n",
              " 18.0     819\n",
              " 6.0      570\n",
              " 5.0      358\n",
              " 25.0     242\n",
              " 4.0      236\n",
              " 20.0     140\n",
              " 3.0       95\n",
              " 2.0       69\n",
              " 1.0       17\n",
              " 0.0        9\n",
              " 22.0       4\n",
              "-1.0        2\n",
              "Name: socio_ec, dtype: int64"
            ]
          },
          "metadata": {
            "tags": []
          },
          "execution_count": 31
        }
      ]
    },
    {
      "cell_type": "code",
      "metadata": {
        "id": "RnGBwGVZPyyh"
      },
      "source": [
        "for index in campaign.index:\n",
        "  campaign.loc[index, 'overall_ec'] = 0"
      ],
      "execution_count": null,
      "outputs": []
    },
    {
      "cell_type": "code",
      "metadata": {
        "id": "zzrjMOE8pTO8",
        "colab": {
          "base_uri": "https://localhost:8080/",
          "height": 221
        },
        "outputId": "a9b8578a-b2ba-4799-88cd-29a589004f70"
      },
      "source": [
        "campaign['euribor3m'].value_counts()"
      ],
      "execution_count": null,
      "outputs": [
        {
          "output_type": "execute_result",
          "data": {
            "text/plain": [
              "4.857    2868\n",
              "4.962    2613\n",
              "4.963    2487\n",
              "4.961    1902\n",
              "4.856    1210\n",
              "         ... \n",
              "1.045       1\n",
              "0.956       1\n",
              "0.933       1\n",
              "3.282       1\n",
              "0.996       1\n",
              "Name: euribor3m, Length: 316, dtype: int64"
            ]
          },
          "metadata": {
            "tags": []
          },
          "execution_count": 40
        }
      ]
    },
    {
      "cell_type": "code",
      "metadata": {
        "id": "CVSfaqgKPzE2",
        "colab": {
          "base_uri": "https://localhost:8080/",
          "height": 119
        },
        "outputId": "8b05f75b-840a-4f73-b4f8-dacf3974b5b8"
      },
      "source": [
        "for index in campaign.index:\n",
        "  if campaign.loc[index, 'emp.var.rate'] < -1:\n",
        "    campaign.loc[index, 'overall_ec'] -= 2\n",
        "  elif campaign.loc[index, 'emp.var.rate'] > 1:\n",
        "    campaign.loc[index, 'socio_ec'] += 2\n",
        "\n",
        "for index in campaign.index:\n",
        "  if campaign.loc[index, 'cons.price.idx'] > 93:\n",
        "    campaign.loc[index, 'overall_ec'] -= 1\n",
        "  elif campaign.loc[index, 'cons.price.idx'] <= 93:\n",
        "    campaign.loc[index, 'overall_ec'] += 1\n",
        "\n",
        "for index in campaign.index:\n",
        "  if campaign.loc[index, 'cons.conf.idx'] > -25:\n",
        "    campaign.loc[index, 'overall_ec'] += 1\n",
        "  elif campaign.loc[index, 'cons.conf.idx'] < -50:\n",
        "    campaign.loc[index, 'overall_ec'] -= 2\n",
        "\n",
        "for index in campaign.index:\n",
        "  if campaign.loc[index, 'euribor3m'] > 4:\n",
        "    campaign.loc[index, 'overall_ec'] += 2\n",
        "  elif campaign.loc[index, 'euribor3m'] < 2:\n",
        "    campaign.loc[index, 'overall_ec'] -= 2\n",
        "\n",
        "campaign['overall_ec'].value_counts()"
      ],
      "execution_count": null,
      "outputs": [
        {
          "output_type": "execute_result",
          "data": {
            "text/plain": [
              " 1.0    27686\n",
              "-3.0     8982\n",
              "-5.0     4388\n",
              "-7.0      128\n",
              "-1.0        4\n",
              "Name: overall_ec, dtype: int64"
            ]
          },
          "metadata": {
            "tags": []
          },
          "execution_count": 49
        }
      ]
    },
    {
      "cell_type": "code",
      "metadata": {
        "id": "Aokgp2aHvo88",
        "colab": {
          "base_uri": "https://localhost:8080/",
          "height": 51
        },
        "outputId": "7f5345fa-4ee6-45e6-df99-7910a57b304a"
      },
      "source": [
        "from imblearn.over_sampling import SMOTE\n",
        "\n",
        "new_features = ['socio_ec', 'overall_ec']\n",
        "x = campaign[new_features]\n",
        "y = campaign['y'].map(dict(yes=1, no=0))\n",
        "\n",
        "sm = SMOTE(random_state=42)\n",
        "x_SMOTE, y_SMOTE = sm.fit_resample(x, y)\n",
        "\n",
        "x_train, x_test, y_train, y_test = train_test_split(x_SMOTE, y_SMOTE, test_size=0.30, random_state=42)\n"
      ],
      "execution_count": null,
      "outputs": [
        {
          "output_type": "stream",
          "text": [
            "/usr/local/lib/python3.6/dist-packages/sklearn/utils/deprecation.py:87: FutureWarning: Function safe_indexing is deprecated; safe_indexing is deprecated in version 0.22 and will be removed in version 0.24.\n",
            "  warnings.warn(msg, category=FutureWarning)\n"
          ],
          "name": "stderr"
        }
      ]
    },
    {
      "cell_type": "code",
      "metadata": {
        "id": "y1ItYN0gyW_G"
      },
      "source": [
        "from sklearn.model_selection import cross_val_predict\n",
        "from sklearn.model_selection import cross_val_score\n",
        "\n",
        "tree_clf = tree.DecisionTreeClassifier()\n",
        "tree_scores = cross_val_score(tree_clf, x_train, y_train, cv=3)\n",
        "tree_mean = tree_scores.mean()\n",
        "tree_clf_y_train_pred = cross_val_predict(tree_clf, x_train, y_train, cv=3)"
      ],
      "execution_count": null,
      "outputs": []
    },
    {
      "cell_type": "code",
      "metadata": {
        "id": "xTIudV1QyhuP",
        "colab": {
          "base_uri": "https://localhost:8080/",
          "height": 68
        },
        "outputId": "fbe6c38c-ba5c-4112-be4c-dd3bacfa0d2b"
      },
      "source": [
        "from sklearn.metrics import precision_score, recall_score\n",
        "from sklearn.metrics import f1_score\n",
        "\n",
        "print('Decision Tree Scores')\n",
        "print('Precision Score: ', precision_score(y_train, tree_clf_y_train_pred))\n",
        "print('Recall Score: ', recall_score(y_train, tree_clf_y_train_pred))"
      ],
      "execution_count": null,
      "outputs": [
        {
          "output_type": "stream",
          "text": [
            "Decision Tree Scores\n",
            "Precision Score:  0.7220166876574308\n",
            "Recall Score:  0.7159303777708398\n"
          ],
          "name": "stdout"
        }
      ]
    },
    {
      "cell_type": "code",
      "metadata": {
        "id": "0VVn4e-JzqvJ",
        "colab": {
          "base_uri": "https://localhost:8080/",
          "height": 466
        },
        "outputId": "ae42b74b-98b8-47c2-d650-6df97e697b23"
      },
      "source": [
        "decision_tree = tree.DecisionTreeClassifier( \n",
        "    class_weight='balanced')\n",
        "\n",
        "decision_tree.fit(x_train, y_train)\n",
        "importances = decision_tree.feature_importances_\n",
        "feature_names = campaign[new_features].columns\n",
        "indices = np.argsort(importances)[::-1]\n",
        "\n",
        "print(\"Feature ranking:\")\n",
        "\n",
        "for f in range(x_train.shape[1]):\n",
        "    print(\"%d. feature %d (%f)\" % (f + 1, indices[f], importances[indices[f]]))\n",
        "\n",
        "# Plot the feature importances of the forest\n",
        "def feature_importance_graph(indices, importances, feature_names):\n",
        "    plt.figure(figsize=(12,6))\n",
        "    plt.title(\"Determining Feature importances \\n with DecisionTreeClassifier\", fontsize=18)\n",
        "    plt.barh(range(len(indices)), importances[indices], color='#31B173',  align=\"center\")\n",
        "    plt.yticks(range(len(indices)), feature_names[indices], rotation='horizontal',fontsize=14)\n",
        "    plt.ylim([-1, len(indices)])\n",
        "    \n",
        "feature_importance_graph(indices, importances, feature_names)\n",
        "plt.show()"
      ],
      "execution_count": null,
      "outputs": [
        {
          "output_type": "stream",
          "text": [
            "Feature ranking:\n",
            "1. feature 1 (0.994677)\n",
            "2. feature 0 (0.005323)\n"
          ],
          "name": "stdout"
        },
        {
          "output_type": "display_data",
          "data": {
            "image/png": "[encoded data removed]",
            "text/plain": [
              "<Figure size 864x432 with 1 Axes>"
            ]
          },
          "metadata": {
            "tags": [],
            "needs_background": "light"
          }
        }
      ]
    }
  ]
}