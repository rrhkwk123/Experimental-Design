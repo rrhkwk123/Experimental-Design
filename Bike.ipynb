{
  "nbformat": 4,
  "nbformat_minor": 0,
  "metadata": {
    "colab": {
      "name": "Bike.ipynb",
      "provenance": [],
      "collapsed_sections": [],
      "include_colab_link": true
    },
    "kernelspec": {
      "name": "python3",
      "display_name": "Python 3"
    }
  },
  "cells": [
    {
      "cell_type": "markdown",
      "metadata": {
        "id": "view-in-github",
        "colab_type": "text"
      },
      "source": [
        "<a href=\"https://colab.research.google.com/github/rrhkwk123/Work/blob/main/Bike.ipynb\" target=\"_parent\"><img src=\"https://colab.research.google.com/assets/colab-badge.svg\" alt=\"Open In Colab\"/></a>"
      ]
    },
    {
      "cell_type": "code",
      "metadata": {
        "colab": {
          "base_uri": "https://localhost:8080/"
        },
        "id": "GyQ5aHeB3fdb",
        "outputId": "5c784737-638f-4d85-bf1c-ad7c571d538b"
      },
      "source": [
        "# Handling the imports as well as reading the CSV into a variable\n",
        "import pandas as pd\n",
        "from matplotlib import pyplot as plt\n",
        "import numpy as np\n",
        "import seaborn as sns\n",
        "\n",
        "import tensorflow as tf\n",
        "from tensorflow import keras\n",
        "from tensorflow.keras import layers\n",
        "from tensorflow.keras.layers.experimental import preprocessing\n",
        "\n",
        "from datetime import timedelta, date\n",
        "\n",
        "bikes = pd.read_csv('https://raw.githubusercontent.com/byui-cse/cse450-course/master/data/bikes.csv')\n",
        "\n",
        "bikes.keys()"
      ],
      "execution_count": null,
      "outputs": [
        {
          "output_type": "execute_result",
          "data": {
            "text/plain": [
              "Index(['Unnamed: 0', 'instant', 'dteday', 'season', 'hr', 'holiday',\n",
              "       'workingday', 'weathersit', 'hum', 'windspeed', 'temp_c',\n",
              "       'feels_like_c', 'casual', 'registered'],\n",
              "      dtype='object')"
            ]
          },
          "metadata": {
            "tags": []
          },
          "execution_count": 131
        }
      ]
    },
    {
      "cell_type": "code",
      "metadata": {
        "colab": {
          "base_uri": "https://localhost:8080/",
          "height": 204
        },
        "id": "oL2KO2eK3o9d",
        "outputId": "7d412133-ca22-4518-a2aa-b091f4389447"
      },
      "source": [
        "# preparing the data to be used in the model\n",
        "bikes['total_riders'] = bikes['casual'] + bikes['registered']\n",
        "\n",
        "bikes_data_to_analyze = bikes.drop(columns=['Unnamed: 0', 'instant', 'dteday', 'casual', 'registered']) # dropping the features that we considered unimportant\n",
        "\n",
        "bikes_data_to_analyze.dropna()\n",
        "\n",
        "bikes_data_to_analyze.head()"
      ],
      "execution_count": null,
      "outputs": [
        {
          "output_type": "execute_result",
          "data": {
            "text/html": [
              "<div>\n",
              "<style scoped>\n",
              "    .dataframe tbody tr th:only-of-type {\n",
              "        vertical-align: middle;\n",
              "    }\n",
              "\n",
              "    .dataframe tbody tr th {\n",
              "        vertical-align: top;\n",
              "    }\n",
              "\n",
              "    .dataframe thead th {\n",
              "        text-align: right;\n",
              "    }\n",
              "</style>\n",
              "<table border=\"1\" class=\"dataframe\">\n",
              "  <thead>\n",
              "    <tr style=\"text-align: right;\">\n",
              "      <th></th>\n",
              "      <th>season</th>\n",
              "      <th>hr</th>\n",
              "      <th>holiday</th>\n",
              "      <th>workingday</th>\n",
              "      <th>weathersit</th>\n",
              "      <th>hum</th>\n",
              "      <th>windspeed</th>\n",
              "      <th>temp_c</th>\n",
              "      <th>feels_like_c</th>\n",
              "      <th>total_riders</th>\n",
              "    </tr>\n",
              "  </thead>\n",
              "  <tbody>\n",
              "    <tr>\n",
              "      <th>0</th>\n",
              "      <td>1</td>\n",
              "      <td>0</td>\n",
              "      <td>0</td>\n",
              "      <td>0</td>\n",
              "      <td>1</td>\n",
              "      <td>0.81</td>\n",
              "      <td>0</td>\n",
              "      <td>3.28</td>\n",
              "      <td>3.0014</td>\n",
              "      <td>16</td>\n",
              "    </tr>\n",
              "    <tr>\n",
              "      <th>1</th>\n",
              "      <td>1</td>\n",
              "      <td>1</td>\n",
              "      <td>0</td>\n",
              "      <td>0</td>\n",
              "      <td>1</td>\n",
              "      <td>0.80</td>\n",
              "      <td>0</td>\n",
              "      <td>2.34</td>\n",
              "      <td>1.9982</td>\n",
              "      <td>40</td>\n",
              "    </tr>\n",
              "    <tr>\n",
              "      <th>2</th>\n",
              "      <td>1</td>\n",
              "      <td>2</td>\n",
              "      <td>0</td>\n",
              "      <td>0</td>\n",
              "      <td>1</td>\n",
              "      <td>0.80</td>\n",
              "      <td>0</td>\n",
              "      <td>2.34</td>\n",
              "      <td>1.9982</td>\n",
              "      <td>32</td>\n",
              "    </tr>\n",
              "    <tr>\n",
              "      <th>3</th>\n",
              "      <td>1</td>\n",
              "      <td>3</td>\n",
              "      <td>0</td>\n",
              "      <td>0</td>\n",
              "      <td>1</td>\n",
              "      <td>0.75</td>\n",
              "      <td>0</td>\n",
              "      <td>3.28</td>\n",
              "      <td>3.0014</td>\n",
              "      <td>13</td>\n",
              "    </tr>\n",
              "    <tr>\n",
              "      <th>4</th>\n",
              "      <td>1</td>\n",
              "      <td>4</td>\n",
              "      <td>0</td>\n",
              "      <td>0</td>\n",
              "      <td>1</td>\n",
              "      <td>0.75</td>\n",
              "      <td>0</td>\n",
              "      <td>3.28</td>\n",
              "      <td>3.0014</td>\n",
              "      <td>1</td>\n",
              "    </tr>\n",
              "  </tbody>\n",
              "</table>\n",
              "</div>"
            ],
            "text/plain": [
              "   season  hr  holiday  ...  temp_c  feels_like_c  total_riders\n",
              "0       1   0        0  ...    3.28        3.0014            16\n",
              "1       1   1        0  ...    2.34        1.9982            40\n",
              "2       1   2        0  ...    2.34        1.9982            32\n",
              "3       1   3        0  ...    3.28        3.0014            13\n",
              "4       1   4        0  ...    3.28        3.0014             1\n",
              "\n",
              "[5 rows x 10 columns]"
            ]
          },
          "metadata": {
            "tags": []
          },
          "execution_count": 132
        }
      ]
    },
    {
      "cell_type": "code",
      "metadata": {
        "id": "97ef-kdk38B7"
      },
      "source": [
        "# Importing tensorflow and numpy in order to create the model that we want to use.\n",
        "from tensorflow.keras import regularizers\n",
        "import tensorflow_docs as tfdocs\n",
        "import tensorflow_docs.modeling\n",
        "import tensorflow_docs.plots\n",
        "from  IPython import display\n",
        "from matplotlib import pyplot as plt\n",
        "\n",
        "import numpy as np\n",
        "\n",
        "import pathlib\n",
        "import shutil\n",
        "import tempfile"
      ],
      "execution_count": null,
      "outputs": []
    },
    {
      "cell_type": "code",
      "metadata": {
        "id": "-xNF2Xpd4EM-"
      },
      "source": [
        "# Set up the training data\n",
        "train_dataset = bikes_data_to_analyze.sample(frac=0.75, random_state=42)\n",
        "\n",
        "# Drop the training data before adding the remainder of the dataset as test data.\n",
        "test_dataset = bikes_data_to_analyze.drop(train_dataset.index)\n",
        "\n",
        "# getting the features\n",
        "train_features = train_dataset.copy()\n",
        "test_features = test_dataset.copy()\n",
        "\n",
        "# making some nice labels\n",
        "train_labels = train_features.pop('total_riders')\n",
        "test_labels = test_features.pop('total_riders')"
      ],
      "execution_count": null,
      "outputs": []
    },
    {
      "cell_type": "code",
      "metadata": {
        "id": "dVNxVUms4K3c"
      },
      "source": [
        "# normalizing the data before we get into creating the model \n",
        "normalizer = preprocessing.Normalization()\n",
        "normalizer.adapt(np.array(train_features))"
      ],
      "execution_count": null,
      "outputs": []
    },
    {
      "cell_type": "code",
      "metadata": {
        "id": "rAfhX1lx6SCf"
      },
      "source": [
        "# Steps to handle before the creation of the model\n",
        "test =  np.array(train_features)\n",
        "test_normalizer = preprocessing.Normalization()\n",
        "test_normalizer.adapt(test)"
      ],
      "execution_count": null,
      "outputs": []
    },
    {
      "cell_type": "code",
      "metadata": {
        "colab": {
          "base_uri": "https://localhost:8080/"
        },
        "id": "hdLbDOD268U-",
        "outputId": "207e0c2a-f499-4723-c4d0-eb6f469c4807"
      },
      "source": [
        "# creating the model\n",
        "test_model = tf.keras.Sequential([\n",
        "    test_normalizer,\n",
        "    layers.Dense(128, activation='relu'), # each of these is another hidden layer\n",
        "    layers.Dense(128, activation='relu'),\n",
        "    layers.Dense(128, activation='relu'),\n",
        "    layers.Dense(units=1)                              \n",
        "])\n",
        "\n",
        "test_model.summary()"
      ],
      "execution_count": null,
      "outputs": [
        {
          "output_type": "stream",
          "text": [
            "Model: \"sequential_17\"\n",
            "_________________________________________________________________\n",
            "Layer (type)                 Output Shape              Param #   \n",
            "=================================================================\n",
            "normalization_21 (Normalizat (None, 9)                 19        \n",
            "_________________________________________________________________\n",
            "dense_50 (Dense)             (None, 128)               1280      \n",
            "_________________________________________________________________\n",
            "dense_51 (Dense)             (None, 128)               16512     \n",
            "_________________________________________________________________\n",
            "dense_52 (Dense)             (None, 128)               16512     \n",
            "_________________________________________________________________\n",
            "dense_53 (Dense)             (None, 1)                 129       \n",
            "=================================================================\n",
            "Total params: 34,452\n",
            "Trainable params: 34,433\n",
            "Non-trainable params: 19\n",
            "_________________________________________________________________\n"
          ],
          "name": "stdout"
        }
      ]
    },
    {
      "cell_type": "code",
      "metadata": {
        "id": "yjvTixXX_jLL"
      },
      "source": [
        "# compiling the model\n",
        "test_model.compile(optimizer=tf.optimizers.Adam(learning_rate=0.03), # a learning rate of .03 and using the mean_absolute_error as our error model\n",
        "    loss='mean_absolute_error')"
      ],
      "execution_count": null,
      "outputs": []
    },
    {
      "cell_type": "code",
      "metadata": {
        "id": "tC-e3uGQANMm"
      },
      "source": [
        "# creating a history to graph as well as epochs to run the model through\n",
        "history = test_model.fit(\n",
        "    train_features, train_labels, # the features we want to train our model with and the goal we're aiming for\n",
        "    epochs=300, # iterations that we went through\n",
        "    verbose=0, # don't want tons of logs here\n",
        "    validation_split = 0.2) # we want to validate against 20% of our data"
      ],
      "execution_count": null,
      "outputs": []
    },
    {
      "cell_type": "code",
      "metadata": {
        "colab": {
          "base_uri": "https://localhost:8080/",
          "height": 204
        },
        "id": "PkPuymqtBTg_",
        "outputId": "df4798e6-1142-469e-f6bd-082685b1c2c1"
      },
      "source": [
        "# creating our graph\n",
        "hist = pd.DataFrame(history.history)\n",
        "hist['epoch'] = history.epoch\n",
        "hist.tail()"
      ],
      "execution_count": null,
      "outputs": [
        {
          "output_type": "execute_result",
          "data": {
            "text/html": [
              "<div>\n",
              "<style scoped>\n",
              "    .dataframe tbody tr th:only-of-type {\n",
              "        vertical-align: middle;\n",
              "    }\n",
              "\n",
              "    .dataframe tbody tr th {\n",
              "        vertical-align: top;\n",
              "    }\n",
              "\n",
              "    .dataframe thead th {\n",
              "        text-align: right;\n",
              "    }\n",
              "</style>\n",
              "<table border=\"1\" class=\"dataframe\">\n",
              "  <thead>\n",
              "    <tr style=\"text-align: right;\">\n",
              "      <th></th>\n",
              "      <th>loss</th>\n",
              "      <th>val_loss</th>\n",
              "      <th>epoch</th>\n",
              "    </tr>\n",
              "  </thead>\n",
              "  <tbody>\n",
              "    <tr>\n",
              "      <th>295</th>\n",
              "      <td>48.606522</td>\n",
              "      <td>54.988857</td>\n",
              "      <td>295</td>\n",
              "    </tr>\n",
              "    <tr>\n",
              "      <th>296</th>\n",
              "      <td>47.854649</td>\n",
              "      <td>55.554001</td>\n",
              "      <td>296</td>\n",
              "    </tr>\n",
              "    <tr>\n",
              "      <th>297</th>\n",
              "      <td>48.136429</td>\n",
              "      <td>53.893898</td>\n",
              "      <td>297</td>\n",
              "    </tr>\n",
              "    <tr>\n",
              "      <th>298</th>\n",
              "      <td>47.305592</td>\n",
              "      <td>53.455898</td>\n",
              "      <td>298</td>\n",
              "    </tr>\n",
              "    <tr>\n",
              "      <th>299</th>\n",
              "      <td>47.455292</td>\n",
              "      <td>55.399242</td>\n",
              "      <td>299</td>\n",
              "    </tr>\n",
              "  </tbody>\n",
              "</table>\n",
              "</div>"
            ],
            "text/plain": [
              "          loss   val_loss  epoch\n",
              "295  48.606522  54.988857    295\n",
              "296  47.854649  55.554001    296\n",
              "297  48.136429  53.893898    297\n",
              "298  47.305592  53.455898    298\n",
              "299  47.455292  55.399242    299"
            ]
          },
          "metadata": {
            "tags": []
          },
          "execution_count": 140
        }
      ]
    },
    {
      "cell_type": "code",
      "metadata": {
        "colab": {
          "base_uri": "https://localhost:8080/",
          "height": 283
        },
        "id": "6ejP4F4FBVQX",
        "outputId": "a86cc07f-762d-4aa7-a07d-62de41c6f153"
      },
      "source": [
        "def plot_loss(history):\n",
        "  plt.plot(history.history['loss'], label='loss')\n",
        "  plt.plot(history.history['val_loss'], label='val_loss')\n",
        "  plt.ylim([35, 75])\n",
        "  plt.xlabel('Epoch')\n",
        "  plt.ylabel('Error [Total Riders]')\n",
        "  plt.legend()\n",
        "  plt.grid(True)\n",
        "\n",
        "plot_loss(history)"
      ],
      "execution_count": null,
      "outputs": [
        {
          "output_type": "display_data",
          "data": {
            "image/png": "[encoded data removed]",
            "text/plain": [
              "<Figure size 432x288 with 1 Axes>"
            ]
          },
          "metadata": {
            "tags": [],
            "needs_background": "light"
          }
        }
      ]
    },
    {
      "cell_type": "code",
      "metadata": {
        "id": "UPemNw3SBajS"
      },
      "source": [
        "# modeling our testing data\n",
        "model_results = {}\n",
        "\n",
        "model_results['test_model'] = test_model.evaluate(\n",
        "    test_features,\n",
        "    test_labels, verbose=0)"
      ],
      "execution_count": null,
      "outputs": []
    }
  ]
}